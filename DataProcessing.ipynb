{
 "cells": [
  {
   "cell_type": "markdown",
   "metadata": {},
   "source": [
    "# 1. Data Collection:\n",
    "- Deepfake Detection Challenge Dataset DFDC form https://www.kaggle.com/competitions/deepfake-detection-challenge/data\n",
    "\n",
    "Data sử dụng trong mini project: \n",
    "- https://www.kaggle.com/datasets/hlly34/liveness-detection-zalo-2022\n",
    "- https://www.kaggle.com/datasets/hhalalwi/deepfake-face-mask-dataset-dffmd\n",
    "\n",
    "**Lưu ý**: Đường dẫn \"https://www.freepik.com/free-photos-vectors/deepfake\""
   ]
  },
  {
   "cell_type": "markdown",
   "metadata": {},
   "source": [
    "# 2. Data Processing: \n"
   ]
  },
  {
   "cell_type": "markdown",
   "metadata": {},
   "source": [
    "## 2.1 Split data: Train - Valid - Test: 70-15-15"
   ]
  },
  {
   "cell_type": "markdown",
   "metadata": {},
   "source": [
    "- Split: Train - Valid - Test: 70-15-15\n",
    "- DeepFake Face Mask Dataset (DFFMD): Có 1000 video deepfake và 850 video real. (600-125-125)\n",
    "- 1168 video Zalo Challenge use code: `classification_video.py` để split thành real_videos, fake_videos từ thư mục videos và file label.csv \n",
    "Gồm 598 real videos, and 570 fake videos. Split: 410 - 90 - 90 \n"
   ]
  },
  {
   "cell_type": "markdown",
   "metadata": {},
   "source": [
    "```Python\n",
    "\n",
    "# folder 'videos' chứa 1000 video, file label.csv chứa nhãn cho từng video là 0 hoặc 1. \n",
    "# Muốn tạo 2 thư mục 'fake_videos', 'real_videos' classification video \n",
    "\n",
    "import os\n",
    "import csv\n",
    "import shutil\n",
    "\n",
    "video_directory = 'videos'\n",
    "label_csv_file = 'label.csv'\n",
    "output_folder_fake = os.path.join(video_directory, 'fake_videos')\n",
    "output_folder_real = os.path.join(video_directory, 'real_videos')\n",
    "os.makedirs(output_folder_fake, exist_ok=True) # tạo thư mục fake_videos nếu chưa tồn tại. \n",
    "os.makedirs(output_folder_real, exist_ok=True)\n",
    "\n",
    "labels = {}\n",
    "with open(label_csv_file, newline='') as csvfile: # mở và đọc nội dung file: \n",
    "    reader = csv.DictReader(csvfile) # tạo 1 đối tượng, cho phép truy cập vào các giá trị trong mỗi dòng bằng tên cột thay vì chỉ số. \n",
    "    for row in reader:\n",
    "        video_name = row['fname']\n",
    "        label = row['liveness_score']\n",
    "        labels[video_name] = label\n",
    "\n",
    "print(labels)\n",
    "\n",
    "moved_videos = 0\n",
    "\n",
    "for filename in os.listdir(video_directory):\n",
    "    if filename.endswith('.mp4'):\n",
    "        video_path = os.path.join(video_directory, filename)\n",
    "        if filename in labels:\n",
    "            label = labels[filename]\n",
    "            if label == '0':\n",
    "                shutil.move(video_path, os.path.join(output_folder_fake, filename))\n",
    "                moved_videos += 1\n",
    "            elif label == '1':\n",
    "                shutil.move(video_path, os.path.join(output_folder_real, filename))\n",
    "                moved_videos += 1\n",
    "\n",
    "print(f\"Moved {moved_videos} videos.\")\n",
    "```"
   ]
  },
  {
   "cell_type": "markdown",
   "metadata": {},
   "source": [
    "## 2.2 Cắt frame image from videos:"
   ]
  }
 ],
 "metadata": {
  "kernelspec": {
   "display_name": "Python 3",
   "language": "python",
   "name": "python3"
  },
  "language_info": {
   "codemirror_mode": {
    "name": "ipython",
    "version": 3
   },
   "file_extension": ".py",
   "mimetype": "text/x-python",
   "name": "python",
   "nbconvert_exporter": "python",
   "pygments_lexer": "ipython3",
   "version": "3.11.5"
  },
  "orig_nbformat": 4
 },
 "nbformat": 4,
 "nbformat_minor": 2
}
